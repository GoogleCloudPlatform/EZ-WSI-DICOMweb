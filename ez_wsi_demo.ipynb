{
  "cells": [
    {
      "cell_type": "code",
      "execution_count": null,
      "metadata": {
        "id": "P_rwFCajEesb"
      },
      "outputs": [],
      "source": [
        "'''Start here.\n",
        "Populate the following fields with the relevant information.\n",
        "These should match information from your gcloud DICOM store.\n",
        "See the gcloud dicom guide for more information:\n",
        "  https://cloud.google.com/healthcare-api/docs/how-tos/dicom.\n",
        "\n",
        "Search the file for \"Try here\" for interactive sections.\n",
        "'''\n",
        "\n",
        "project_name = ''\n",
        "location = '' # e.g. us-west1\n",
        "dataset_id = ''\n",
        "dicom_store_id = ''\n",
        "study_uid = ''\n",
        "series_uid = ''\n",
        "\n",
        "# Supply magnifications present in your DICOM Series\n",
        "# Strings must match what is present in magnfication.py exactly.\n",
        "low_magnification_str = '0.625X' # e.g. 0.625X, 1.25X, 2.5X\n",
        "medium_magnification_str = '10X' # e.g. 5X, 10X\n",
        "high_magnification_str = '40X' # e.g. 20X, 40"
      ]
    },
    {
      "cell_type": "code",
      "execution_count": null,
      "metadata": {
        "id": "_InI751DGp5f"
      },
      "outputs": [],
      "source": [
        "### Import Dependencies\n",
        "\n",
        "from ez_wsi_dicomweb import dicom_slide\n",
        "from ez_wsi_dicomweb import dicom_web_interface\n",
        "from ez_wsi_dicomweb import magnification\n",
        "from ez_wsi_dicomweb import patch_generator\n",
        "from hcls_imaging_ml_toolkit import dicom_web\n",
        "from hcls_imaging_ml_toolkit import dicom_path\n",
        "from dataclasses import dataclass\n",
        "from matplotlib import pyplot as plt\n",
        "from math import floor, sqrt"
      ]
    },
    {
      "cell_type": "code",
      "execution_count": null,
      "metadata": {
        "id": "aLthKr4eGd-i"
      },
      "outputs": [],
      "source": [
        "### Define Constants\n",
        "\n",
        "series_path_str = (\n",
        "    f'projects/{project_name}/locations/{location}'\n",
        "    f'/datasets/{dataset_id}/dicomStores/{dicom_store_id}'\n",
        "    f'/dicomWeb/studies/{study_uid}'\n",
        "    f'/series/{series_uid}'\n",
        ")\n",
        "series_path = dicom_path.FromString(series_path_str)\n",
        "low_magnification = magnification.Magnification.FromString(low_magnification_str)\n",
        "medium_magnification = magnification.Magnification.FromString(medium_magnification_str)\n",
        "high_magnification = magnification.Magnification.FromString(high_magnification_str)"
      ]
    },
    {
      "cell_type": "code",
      "execution_count": null,
      "metadata": {
        "id": "U7n8zwuGF0P8"
      },
      "outputs": [],
      "source": [
        "### Create Dicom Web Client\n",
        "\n",
        "dicom_web_client = dicom_web.DicomWebClientImpl()"
      ]
    },
    {
      "cell_type": "code",
      "execution_count": null,
      "metadata": {
        "id": "cIGtYdH8H6yZ"
      },
      "outputs": [],
      "source": [
        "### Create DICOM Web Interface\n",
        "\n",
        "dwi = dicom_web_interface.DicomWebInterface(dicom_web_client)"
      ]
    },
    {
      "cell_type": "code",
      "execution_count": null,
      "metadata": {
        "id": "zkIvSz8XH-wt"
      },
      "outputs": [],
      "source": [
        "### Create DicomSlide\n",
        "\n",
        "ds = dicom_slide.DicomSlide(\n",
        "    dwi=dwi,\n",
        "    path=series_path,\n",
        "    enable_client_slide_frame_decompression = True\n",
        "    )"
      ]
    },
    {
      "cell_type": "code",
      "execution_count": null,
      "metadata": {
        "id": "KViZdMPgIKBn"
      },
      "outputs": [],
      "source": [
        "### Using DicomSlide\n",
        "\n",
        "# Print all the Magnifications in the DICOM series.\n",
        "# An unknown magnification is one that is not mapped in magnification.py.\n",
        "print(\n",
        "    'Magnifications in'\n",
        "    f' series:\\n{[magnification.as_string for magnification in ds.magnifications]}'\n",
        ")\n",
        "# Get the entire image at a low magnification\n",
        "small_image = ds.get_image(low_magnification).image_bytes()\n",
        "\n",
        "# Image rendering code\n",
        "plt.title(f'Magnification {low_magnification.as_string}')\n",
        "plt.imshow(small_image)\n",
        "plt.show()\n"
      ]
    },
    {
      "cell_type": "code",
      "execution_count": null,
      "metadata": {
        "id": "_LqRJ2P1IYZe"
      },
      "outputs": [],
      "source": [
        "###  Extract a patch of a tissue sample.\n",
        "\n",
        "# Try here. Set these coordinates for your patch\n",
        "x_origin=100\n",
        "y_origin=100\n",
        "width=100\n",
        "height=100\n",
        "\n",
        "tissue_patch = ds.get_patch(\n",
        "    low_magnification, x=x_origin, y=y_origin, width=width, height=height\n",
        ").image_bytes()\n",
        "\n",
        "# Image rendering code\n",
        "plt.title(f'Patch at Magnification {low_magnification.as_string}')\n",
        "plt.imshow(tissue_patch)\n",
        "plt.show()"
      ]
    },
    {
      "cell_type": "code",
      "execution_count": null,
      "metadata": {
        "id": "Q1KKYrkOLEZs"
      },
      "outputs": [],
      "source": [
        "### Boilerplate code for zooming in\n",
        "\n",
        "@dataclass(frozen=True)\n",
        "class PatchCoordinate:\n",
        "  x_origin: int\n",
        "  y_origin: int\n",
        "  width: int\n",
        "  height: int\n",
        "  selected_magnification: magnification.Magnification\n",
        "\n",
        "# Try here. Add magnifications for zoom in and set coordinates.\n",
        "x_origin = 100\n",
        "y_origin = 100\n",
        "width = 100\n",
        "height = 100\n",
        "magnifications = [\n",
        "    low_magnification,\n",
        "    magnification.Magnification.FromString('2.5X'),\n",
        "    medium_magnification,\n",
        "    high_magnification,\n",
        "]\n",
        "\n",
        "coordinates = []\n",
        "for higher_magnification in magnifications:\n",
        "  # Scaling factor helps us determine the zoomed in coordinates, could use height instead to compute it.\n",
        "  scaling_factor = higher_magnification.as_double / low_magnification.as_double\n",
        "  coordinates.append(\n",
        "      PatchCoordinate(\n",
        "          x_origin=floor(x_origin * scaling_factor),\n",
        "          y_origin=floor(y_origin * scaling_factor),\n",
        "          width=floor(width * scaling_factor),\n",
        "          height=floor(height * scaling_factor),\n",
        "          selected_magnification=higher_magnification,\n",
        "      )\n",
        "  )\n"
      ]
    },
    {
      "cell_type": "code",
      "execution_count": null,
      "metadata": {
        "id": "AZEggq7-Lxt4"
      },
      "outputs": [],
      "source": [
        "### Patch fetching and image rendering code for zoom in\n",
        "\n",
        "for i, coordinate in enumerate(coordinates):\n",
        "  interesting_region_zoomed_in = ds.get_patch(\n",
        "      coordinate.selected_magnification,\n",
        "      x=coordinate.x_origin,\n",
        "      y=coordinate.y_origin,\n",
        "      width=coordinate.width,\n",
        "      height=coordinate.height,\n",
        "  ).image_bytes()\n",
        "\n",
        "  # Image rendering code\n",
        "  plt.subplot(1, len(magnifications), i + 1)\n",
        "  plt.title(f'Magnification {coordinate.selected_magnification.as_string}')\n",
        "  plt.imshow(interesting_region_zoomed_in)\n",
        "\n",
        "\n",
        "plt.tight_layout()\n",
        "plt.show()\n"
      ]
    },
    {
      "cell_type": "code",
      "execution_count": null,
      "metadata": {
        "id": "nOVDY7jiME70"
      },
      "outputs": [],
      "source": [
        "### Create a Patch Generator\n",
        "\n",
        "# Try here. Play around with stride and patch size and the magnifications.\n",
        "stride_size = 10\n",
        "patch_size = 100\n",
        "patch_magnification = medium_magnification\n",
        "mask_magnification = low_magnification  # Used to approximate where tissue is.\n",
        "\n",
        "patch_gen = patch_generator.PatchGenerator(\n",
        "    slide=ds,\n",
        "    stride_size=stride_size,\n",
        "    patch_size=patch_size,\n",
        "    magnification=patch_magnification,\n",
        "    max_luminance=0.8,  # defaults to .8, heuristic to evaluate where tissue is.\n",
        "    tissue_mask_magnification=mask_magnification,\n",
        ")"
      ]
    },
    {
      "cell_type": "code",
      "execution_count": null,
      "metadata": {
        "id": "BELSOb1qMemD"
      },
      "outputs": [],
      "source": [
        "### Using Patch Generator\n",
        "\n",
        "# Try here. Adjust the number of patches rendered. Use a square number.\n",
        "n = 9\n",
        "plt.figure(figsize=(patch_size / 5, patch_size / 5))  # Tune the plot sizes.\n",
        "\n",
        "rows = floor(sqrt(n))\n",
        "cols = rows\n",
        "for i, patch in enumerate(patch_gen):\n",
        "  plt.subplot(rows, cols, i + 1)\n",
        "  plt.imshow(patch.image_bytes())\n",
        "  if i \u003e= n:\n",
        "    break\n",
        "\n",
        "plt.tight_layout()\n",
        "plt.show()"
      ]
    }
  ],
  "metadata": {
    "colab": {
      "private_outputs": true,
      "provenance": []
    }
  },
  "nbformat": 4,
  "nbformat_minor": 0
}