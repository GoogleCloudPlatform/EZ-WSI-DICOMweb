{
  "cells": [
    {
      "cell_type": "markdown",
      "metadata": {
        "id": "jMHTd3hPjFRt"
      },
      "source": [
        "Copyright 2024 Google LLC\n",
        "Licensed under the Apache License, Version 2.0 (the \"License\");\n",
        "you may not use this file except in compliance with the License.\n",
        "You may obtain a copy of the License at\n",
        "    https://www.apache.org/licenses/LICENSE-2.0\n",
        "Unless required by applicable law or agreed to in writing, software\n",
        "distributed under the License is distributed on an \"AS IS\" BASIS,\n",
        "WITHOUT WARRANTIES OR CONDITIONS OF ANY KIND, either express or implied.\n",
        "See the License for the specific language governing permissions and\n",
        "limitations under the License."
      ]
    },
    {
      "cell_type": "markdown",
      "metadata": {
        "id": "2IZ7MUfQ6tOF"
      },
      "source": [
        "# Getting Started with EZ-WSI DICOMweb\n",
        "\n",
        "EZ-WSI DICOMweb is a Python library that provides fast and easy access to digital pathology images. The library supports accessing images from DICOMweb-accessible [DICOM Stores](https://cloud.google.com/healthcare-api/docs/how-tos/dicom), [Google Cloud Storage](https://cloud.google.com/storage?hl=en) (GCS),  and local storage. When accessing images from a DICOM store, the library provides methods to accelerate image retrieval.  All images accessed using the API can be easily converted into ML embeddings using the Google Pathology Embeddings Research API. A DICOM conformance statement for the  EZ-WSI library is available [here](https://github.com/GoogleCloudPlatform/EZ-WSI-DICOMweb/blob/main/ez_wsi_dicomweb/documentation/dicom_conformance_statement.md).\n",
        "\n",
        "Google Pathology Embeddings is an ML foundation model developed to accelerate the development of digital pathology ML algorithms. This foundation model was trained on pathology images using self-supervised methods. To learn more about Google Pathology Embeddings, see the [blog post](https://research.google/blog/health-specific-embedding-tools-for-dermatology-and-pathology/).\n",
        "\n",
        "\n",
        "**This Colab walks through a series of examples to demonstrate how to get started using EZ-WSI DICOMweb:**\n",
        "\n",
        "1.   [Connecting EZ-WSI DICOMweb to DICOM slide imaging](#init_dicomweb)\n",
        "2.   [Enabling EZ-WSI DICOMweb frame cache](#cache)\n",
        "3.   [Listing DICOM slide pyramid level images](#listing_pyramid_imaging)\n",
        "4.   [Retrieving a pyramid level image by index](#index_access)\n",
        "5.   [Image dimensions (pixel spacing)](#pixel_spacing)\n",
        "6.   [Finding pyramid level images by pixel spacing](#find_by_pixelspacing)\n",
        "7.   [Normalizing pyramid level pixel spacing (resizing)](#normalize_pixelspacing)\n",
        "8.   [Retrieving a patch from a level image and downsampled level image](#get_patch)\n",
        "9.  [ICC profile color normalization](#color_correction)\n",
        "10.   [Generating patches from a level image](#generate_patches)\n",
        "11.   [Generating machine learning embeddings](https://github.com/GoogleCloudPlatform/EZ-WSI-DICOMweb/tree/main/ez_wsi_dicomweb/documentation/getting_started_with_embeddings.ipynb)\n",
        "\n",
        "**Complete end-to-end example**\n",
        "A complete end-to-end example that illustrates initialization and patch generation is shown [here](#complete_example).\n"
      ]
    },
    {
      "cell_type": "code",
      "execution_count": null,
      "metadata": {
        "id": "pK9lTJaN9tuk"
      },
      "outputs": [],
      "source": [
        "# @title Pip install EZ-WSI DICOMweb\n",
        "%%capture\n",
        "!pip install --upgrade ez_wsi_dicomweb\u003e=6.0.7"
      ]
    },
    {
      "cell_type": "code",
      "execution_count": null,
      "metadata": {
        "id": "rbwMvEMf97uz"
      },
      "outputs": [],
      "source": [
        "# @title Authenticate Colab\n",
        "# Authenticate user for access. There will be a popup asking you to sign in with your user account and approve access.\n",
        "from google.colab import auth\n",
        "auth.authenticate_user()"
      ]
    },
    {
      "cell_type": "code",
      "execution_count": null,
      "metadata": {
        "id": "RU69c11rFvn8"
      },
      "outputs": [],
      "source": [
        "# @title Define Colab specific code to display output\n",
        "# Imports for CoLab Output\n",
        "from ez_wsi_dicomweb import patch_generator\n",
        "from google.colab import data_table\n",
        "from matplotlib import pyplot as plt\n",
        "import pandas as pd\n",
        "\n",
        "\n",
        "# Code to render tables and figures in co-lab\n",
        "\n",
        "def init_subplot(height: int, width: int):\n",
        "  # Boiler plate code to init matplotlib to render multi-image figure.\n",
        "  fig, sub_plots = plt.subplots(height, width)\n",
        "  fig.set_figwidth(10)\n",
        "  fig.set_figheight(10)\n",
        "  fig.tight_layout()\n",
        "  return sub_plots\n",
        "\n",
        "def show_image (title: str, img, sub_plot = None):\n",
        "  # Boiler plate code to render image in coloab using matplotlib.\n",
        "  if sub_plot is not None:\n",
        "    sub_plot.set_title(title)\n",
        "    sub_plot.imshow(img)\n",
        "    return\n",
        "  plt.title(title)\n",
        "  plt.imshow(img)\n",
        "  plt.show()\n",
        "\n",
        "def show_table(headers, rows):\n",
        "  # Boiler plate code to tables image in coloab.\n",
        "  df = pd.DataFrame({header: [row[index] for row in rows] for index, header in enumerate(headers)})\n",
        "  return data_table.DataTable(df, include_index=False)\n",
        "\n",
        "def show_generated_patches(max_columns: int,\n",
        "                           max_rows: int,\n",
        "                           patch_generator:patch_generator.DicomPatchGenerator,\n",
        "                           profile_transformation = None):\n",
        "  # Boiler plate code display patches of images using matplotlib.\n",
        "  sub_plots = init_subplot(max_rows, max_columns)\n",
        "  column = 0\n",
        "  row = 0\n",
        "  for i, patch in enumerate(patch_gen):\n",
        "    if i == max_rows * max_columns:\n",
        "      break\n",
        "    column = int(i % max_columns)\n",
        "    row = int(i / max_columns)\n",
        "    show_image(\n",
        "               '',\n",
        "               patch.image_bytes(profile_transformation),\n",
        "               sub_plots[row, column]\n",
        "              )\n",
        "  for i in range(i+1, max_rows * max_columns):\n",
        "    column = int(i % max_columns)\n",
        "    row = int(i / max_columns)\n",
        "    sub_plots[row, column].set_visible(False)\n",
        "  plt.tight_layout()\n",
        "  plt.show()\n"
      ]
    },
    {
      "cell_type": "markdown",
      "metadata": {
        "id": "2qnHvm90GUQY"
      },
      "source": [
        "# DICOM Digital Pathology Imaging\n",
        "\n",
        "[DICOM](https://www.dicomstandard.org/) is the interoperable standard through which medical imaging (Pathology, Radiology, Cardiology, *etc*.) is communicated. The DICOM standard supports  photo-micrographs and [Whole Slide Digital Pathology Imaging](https://pubmed.ncbi.nlm.nih.gov/30533276/). Whole slide digital pathology images are some of the largest medical imaging commonly acquired. The DICOM standard supports high performance random access to this imaging, panning and zooming. EZ-WSI DICOMweb is implemented on top of DICOMweb standard to simplify and accelerate the retrieval of digital pathology imageing.\n",
        "\n",
        "**DICOM representation of whole slide digital pathology.**\n",
        "\n",
        "Whole Slide digital pathology Imaging (WSI) are represented in DICOM as an image pyramid. Each level of the pyramid defines a representation of the image at a specific zoom level, pixel spacing. Pyramid levels are themselves represented as a collection of non-overlapping smaller images, frames. In addition to describing the image pyramid the standard also defines additional optional images: a label, overview, and thumbnail image. The label image captures the slides label. The overview describes the slide as a whole and may include annotations which define the region of the slide which was captured in the pyramid imaging, and the thumbnail is a single relatively small image that represents the pyramid imaging as an non-tiled image.  **EZ-WSI DICOMweb provides mechanisms to easily access the image pyramid and if defined the label, thumbnail, and overview imaging**.\n",
        "\n",
        "\n",
        "![DICOM whole slide image pyramid.](https://dicom.nema.org/dicom/dicomwsi/sup145_fromword_files/image008.gif)\n",
        "\n",
        "Image: [DICOM Standard Supplement 145](https://dicom.nema.org/dicom/dicomwsi/)."
      ]
    },
    {
      "cell_type": "markdown",
      "metadata": {
        "id": "zZTLirmCSPYZ"
      },
      "source": [
        "# \u003ca name=\"init_dicomweb\"\u003eConnecting EZ-WSI DICOMweb to DICOM Imaging.\u003c/a\u003e\n",
        "\n",
        "EZ-WSI DICOMweb requires that users of the library identify the DICOM store, and the study instance uid and series instance uid of the slide imaging that will be accessed by provideing a full DICOMweb path, url + path, to the slide imaging. If authentication is required to connect to the DICOM store, users are required to provide EZ-WSI with credentials to access the store.\n",
        "\n",
        "DICOM imaging is identified through the combination of three [UIDs](https://dicom.nema.org/dicom/2013/output/chtml/part05/chapter_9.html); study instance UID, series instance UID, and a SOP instance UID. These UIDs form a relatively hierarchy and an information organizational structure. Using the DICOM Standard information model, a patient maps to one or more study instance UID. The study instance UID can be thought of as a globally unique value that identifies the collection of imaging acquired at a patient's exam. Each series instance UIDs contained within a Study Instance UID conceptually correspond to each unique medical imaging acquisition which occurred as a result of the exam. Each series instance UID in turn contains one or more images that when taken togeather describe the image acquisition, each of these is represented by a unique SOP instance UID.\n",
        "\n",
        "The Colab retrieves a WSI from a Google DICOM store.  The slide imaging can be accessed using DICOMweb at: https://healthcare.googleapis.com/v1/projects/hai-cd3-foundations/locations/us-west1/datasets/pathology/dicomStores/camelyon/dicomWeb/studies/1.3.6.1.4.1.11129.5.7.999.186491099540.79362771.1709051338085017/series/1.3.6.1.4.1.11129.5.7.999.186491099540.79362771.1709051338893019. The code below connects EZ-WSI DICOMweb to a Google DICOM store.\n",
        "\n",
        "***Performance TIP***\n",
        "\n",
        "The DICOM Slide constructor initalizes EZ-WSI state by reading metadata that describes the referenced imaging (series_path) from the DICOM store storing the imaging. It is generally recommended that repeated initialization of the Dicom Slide class be avoided to avoid redundant metadata reads."
      ]
    },
    {
      "cell_type": "code",
      "execution_count": null,
      "metadata": {
        "id": "MOP8ybe5Aa3V"
      },
      "outputs": [],
      "source": [
        "# This section imports python library dependenceis that will be used in the\n",
        "# coloab\n",
        "\n",
        "from ez_wsi_dicomweb import credential_factory\n",
        "from ez_wsi_dicomweb import dicom_slide\n",
        "from ez_wsi_dicomweb import dicom_web_interface\n",
        "from ez_wsi_dicomweb import local_dicom_slide_cache_types\n",
        "from ez_wsi_dicomweb import patch_generator\n",
        "from ez_wsi_dicomweb import pixel_spacing\n",
        "from ez_wsi_dicomweb.ml_toolkit import dicom_path\n",
        "\n",
        "'''Start here.\n",
        "Populate the following fields with the relevant information.\n",
        "These should match information from your gcloud DICOM store.\n",
        "See the gcloud dicom guide for more information:\n",
        "  https://cloud.google.com/healthcare-api/docs/how-tos/dicom.\n",
        "\n",
        "Search the file for \"Try here\" for interactive sections.\n",
        "'''\n",
        "\n",
        "project_name = 'hai-cd3-foundations' # remove''\n",
        "location = 'us-west1' # remove #'' # e.g. us-west1\n",
        "dataset_id = 'pathology' # remove\n",
        "dicom_store_id = 'camelyon' # remove\n",
        "study_uid = '1.3.6.1.4.1.11129.5.7.999.186491099540.79362771.1709051338085017' # remove\n",
        "series_uid = '1.3.6.1.4.1.11129.5.7.999.186491099540.79362771.1709051338893019' # remove\n",
        "\n",
        "# Define path to slide imaging in GCP DICOM Store\n",
        "series_path = dicom_path.FromString(\n",
        "    'https://healthcare.googleapis.com/v1'\n",
        "    f'/projects/{project_name}/locations/{location}'\n",
        "    f'/datasets/{dataset_id}/dicomStores/{dicom_store_id}'\n",
        "    f'/dicomWeb/studies/{study_uid}'\n",
        "    f'/series/{series_uid}'\n",
        ")\n",
        "\n",
        "print(f'Connecting to DICOM Slide Located at: {series_path}')"
      ]
    },
    {
      "cell_type": "markdown",
      "metadata": {
        "id": "znBQ0AA8e35_"
      },
      "source": [
        "***Authentication***\n",
        "\n",
        "An authentication header, [OAuth bearer token](https://developers.google.com/identity/protocols/oauth2), is required to connect \u003cu\u003edirectly\u003c/u\u003e to a DICOM store. EZ-WSI uses a credential factory to generate credentials and allows for regeneration of those credentials, if needed. The ability to re-generate credientials enables EZ-WSI to re-generate expired crediental and enables the  DicomSlide class to be passed as a parameter through a Dataflow pipeline. EZ-WSI includes five credential factory implementations in credential_factory.py.\n",
        "\n",
        "1. \u003cu\u003eDefaultCredentialFactory\u003c/u\u003e, initalizes a credentials from [application default credientals](https://cloud.google.com/docs/authentication/application-default-credentials). **(Use this factory, for most use cases, when connecting directly to a Google DICOM store.**\n",
        "\n",
        "```\n",
        "DefaultCredentialFactory(scopes: Optional[List[str]] = None):\n",
        "# scopes default to: ['https://www.googleapis.com/auth/cloud-platform',\n",
        "#        'https://www.googleapis.com/auth/cloud-healthcare',]\n",
        "```\n",
        "\n",
        "\n",
        "2. \u003cu\u003eNoAuthCredentialsFactory\u003c/u\u003e: This factory omits credentials from requests.  **Use this factory if the DICOM store does not require an authentication token in DICOMweb requests.**\n",
        "\n",
        "```\n",
        "NoAuthCredentialsFactory():\n",
        "```\n",
        "\n",
        "3. \u003cu\u003eTokenPassthroughCredentialFactory\u003c/u\u003e: This factory initalizes a credentials with the provided OAuth bearer token. The credentials returned by the factory cannot be refreshed. This factory is useful for services which are being built to proxy requests.\n",
        "\n",
        "```\n",
        "TokenPassthroughCredentialFactory(bearer_token: str):\n",
        "```\n",
        "\n",
        "4. \u003cu\u003eServiceAccountCredentialFactory\u003c/u\u003e: This factory enables authentication to be initalized from service account credential JSON.\n",
        "\n",
        "```\n",
        "ServiceAccountCredentialFactory(\n",
        "    json_param: Optional[\n",
        "        Union[Mapping[str, Any], str, bytes, os.PathLike[Any]]\n",
        "    ] = None,\n",
        "    scopes: Optional[List[str]] = None,\n",
        "):\n",
        "# json_param: JSON containing service account info in Google format or a file\n",
        "#   which should be read which contains JSON formatted service account info\n",
        "#\n",
        "# scopes default to: ['https://www.googleapis.com/auth/cloud-platform',\n",
        "#        'https://www.googleapis.com/auth/cloud-healthcare',]\n",
        "```\n",
        "\n",
        "5. \u003cu\u003eGoogleAuthCredentialFactory\u003c/u\u003e: This factory enables externally provided [google.auth.credentials.Credentials](https://google-auth.readthedocs.io/en/stable/reference/google.auth.credentials.html) to be used. This credential factory does not support credential regeneration.\n",
        "\n",
        "```\n",
        "GoogleAuthCredentialFactory(credentials: google.auth.credentials.Credentials):\n",
        "```\n",
        "\n",
        " The code that follows initalizes the EZ-WSI DICOMweb [application default credientals](https://cloud.google.com/docs/authentication/application-default-credentials) factory. This factory will return the credientals associated with the Colab user account."
      ]
    },
    {
      "cell_type": "code",
      "execution_count": null,
      "metadata": {
        "id": "tPqnn38MG7lt"
      },
      "outputs": [],
      "source": [
        "### Creates a factory to use application default credientals to authenticate DICOMweb requests\n",
        "credientals = credential_factory.DefaultCredentialFactory()"
      ]
    },
    {
      "cell_type": "markdown",
      "metadata": {
        "id": "lLRrWhinG2iy"
      },
      "source": [
        "***Connecting to the DICOM Store***\n",
        "\n",
        "The code that follows retrieval the EZ-WSI DICOMweb DicomSlide class. This is the core class through which slide imaging is referenced and image bytes are initializes. The DicomSlide constructor retrieves DICOMweb metadata to identify the series's slide imaging in the DICOM store; pixel data is not retrieved.\n",
        "\n",
        "**Performance TIP**\n",
        "\n",
        "It is recommended that repeated initialization of the Dicom Slide class be avoided to avoid redundant metadata reads. Metadata retrieveal while efficient count against the store's total query per minute transaction quota."
      ]
    },
    {
      "cell_type": "code",
      "execution_count": null,
      "metadata": {
        "id": "P_rwFCajEesb"
      },
      "outputs": [],
      "source": [
        "ds = dicom_slide.DicomSlide(\n",
        "      dwi=dicom_web_interface.DicomWebInterface(\n",
        "        credientals\n",
        "      ),\n",
        "      path=series_path,\n",
        "    )"
      ]
    },
    {
      "cell_type": "markdown",
      "metadata": {
        "id": "_l5wL9qGmLTP"
      },
      "source": [
        "# \u003ca name=\"cache\"\u003eEnabling EZ-WSI DICOMweb Frame Cache\u003c/a\u003e\n",
        "\n",
        "At high magnifications, low pixel spacing, it is not uncommon for digital pathology pyramid levels to have 10 - 100's of thousands of frames. To accellerate imaging retrieval, EZ-WSI DICOMweb can be configured to fetch frames in blocks and cache them for subsequent use. The performance gains from doing this can be substantial, ~100x, when compared with repeated requests for individual frames. Once the slide cache is enabled the frame caching operates transparently in the background. The slide cache will pre-fetch blocks of frames or entire instances as needed. The total memory size of the frame cache can be controlled via a built in LRU. Frame cache initialization returns an instance of the cache. The frame cache has methods which can be used to monitor the cache performance.\n",
        "\n",
        "![ez-wsi_DICOMweb slide cache](https://github.com/GoogleCloudPlatform/EZ-WSI-DICOMweb/tree/main/ez_wsi_dicomweb/documentation/images/ez_wsi_cache.jpeg)\n",
        "\n",
        "```\n",
        "def init_slide_frame_cache(\n",
        "      self,\n",
        "      max_cache_frame_memory_lru_cache_size_bytes: Optional[int] = None,\n",
        "      number_of_frames_to_read: int = 500,\n",
        "      max_instance_number_of_frames_to_prefer_whole_instance_download: int = 10000,\n",
        "      optimization_hint: local_dicom_slide_cache_types.CacheConfigOptimizationHint = local_dicom_slide_cache_types.CacheConfigOptimizationHint.MINIMIZE_DICOM_STORE_QPM,\n",
        "  ) -\u003e InMemoryDicomSlideCache:\n",
        "```\n",
        "\n",
        "**Performance Tip**\n",
        "The performance of the cache can be optimized by programatically pre-loading patch \u003cu\u003eonce\u003c/u\u003e prior to issueing requests for requests for image or patch pixel bytes. If patch imaging is not pre-loaded then cache performance is optmized by accessing patches left-to-right top-to-bottom.\n",
        "\n"
      ]
    },
    {
      "cell_type": "code",
      "execution_count": null,
      "metadata": {
        "id": "zkIvSz8XH-wt"
      },
      "outputs": [],
      "source": [
        "\n",
        "# Initialize in client side memory cache for the slide.\n",
        "# Batch Optimization hints= MINIMIZE_DICOM_STORE_QPM or MINIMIZE_LATENCY.\n",
        "# MINIMIZE_DICOM_STORE_QPM: EZ-WSI blocks and waits for cache to finish loading\n",
        "# before returning frames. Recommended setting.\n",
        "# MINIMIZE_LATENCY: Batch load frames async. If a frame is requested for\n",
        "# frame that is not in cache, then EZ-WSI will issue two requests, a larger one\n",
        "# to batch loads frames into the cache, and a individual frame request to\n",
        "# to retrieve and return the requested frame data immediately. This second\n",
        "# request increases the number of queries against the DICOM store and, may, slow\n",
        "# data retrieval for the batched frames, but will return the requested frame\n",
        "# data with the least latency.\n",
        "frame_cache = ds.init_slide_frame_cache(\n",
        "  optimization_hint=local_dicom_slide_cache_types.CacheConfigOptimizationHint.MINIMIZE_DICOM_STORE_QPM\n",
        ")\n",
        "\n",
        "# Resets frame cache internal monitor. Shown here for demonstration purposes\n",
        "# only. Cache monitor initalized in reset.\n",
        "frame_cache.reset_cache_stats()\n",
        "\n",
        "# Returns a Python dataclass that contains frame cache usage statistics.\n",
        "frame_cache.cache_stats"
      ]
    },
    {
      "cell_type": "markdown",
      "metadata": {
        "id": "qGxy3zsjHwW1"
      },
      "source": [
        "**Programmatically optimizing frame caching**\n",
        "\n",
        "The EZ-WSI DICOM frame cache can be manually initialized by selectively pre-loading frames that will be used into the cache prior to their use. An example of patch preloading in this Colab is shown [here](#preloading).\n",
        "\n",
        "\u003cu\u003eTo preload all of the frames within a level image or downsampled level image\u003c/u\u003e\n",
        "```\n",
        "ds.preload_level_in_frame_cache(level)\n",
        "\n",
        "```\n",
        "\u003cu\u003eTo preload a patch or sequence of patches\u003c/u\u003e\n",
        "```\n",
        "ds.preload_patches_in_frame_cache(patch_sequence)\n",
        "```\n",
        "\n",
        "It is worth noting that pre-loading frames is not always optimal or necessary. The performance gains achieved by preloading are often modest when compared with the gains achieved simply by enabling the frame cache."
      ]
    },
    {
      "cell_type": "markdown",
      "metadata": {
        "id": "6QdI2SYOlzdK"
      },
      "source": [
        "# \u003ca name=\"listing_pyramid_imaging\"\u003eListing DICOM Slide Pyramid Level Images\u003c/a\u003e\n",
        "\n",
        "The pyramid imaging associated with a DICOM slide can be accessed through multiple mechanisms. The `levels` attribute returns an iterator over all of the image pyramid levels stored on a DicomSlide. Levels are returned in order from highest magnification to lowest magnification."
      ]
    },
    {
      "cell_type": "code",
      "execution_count": null,
      "metadata": {
        "id": "khYMRfQNGOte"
      },
      "outputs": [],
      "source": [
        "### Using DicomSlide discover images stored within the slides series\n",
        "#\n",
        "# pyramid levels = images used to represent whole slide images in the pyramid\n",
        "print ('Pyramid Images in slide')\n",
        "header = ['level index', 'width x height (px)', 'Minimum horizontal/vertical pixel spacing (mm/px)']\n",
        "rows = [[l.level_index, f'{l.width} x {l.height}', round(l.pixel_spacing.pixel_spacing_mm,6)] for l in ds.levels]\n",
        "show_table(header, rows)"
      ]
    },
    {
      "cell_type": "markdown",
      "metadata": {
        "id": "khbhji72nX8E"
      },
      "source": [
        "If defined, the label imaging, thumbnail, and overview imaging can be accessed by attribute from the DicomSlide. The Colab demo imaging defines an overview imaging only.\n"
      ]
    },
    {
      "cell_type": "code",
      "execution_count": null,
      "metadata": {
        "id": "TSuS1KpqnOWN"
      },
      "outputs": [],
      "source": [
        "# If present Label, Thumbnail, and Overview images are also represented as slide levels\n",
        "# Pixel spacing on these levels is likely meaningless.\n",
        "print('Label, Thumbnail, and Overview images in slide.')\n",
        "header = ['level index', 'width x height (px)']\n",
        "rows = []\n",
        "for title, level in ( ('label', ds.label), ('thumbnail', ds.thumbnail),  ('overview', ds.overview)):\n",
        "  if level is None:\n",
        "    rows.append([f'No {title} Image.'] * len(header))\n",
        "  else:\n",
        "    rows.append([level.level_index, f'{level.width} x {level.height}'])\n",
        "show_table(header, rows)\n"
      ]
    },
    {
      "cell_type": "markdown",
      "metadata": {
        "id": "y32hz-5DooQQ"
      },
      "source": [
        "#\u003ca name=\"index_access\"\u003eRetrieving Pyramid Level Image by Index\u003c/a\u003e\n",
        "\n",
        "Level index is a pyramid specific key that provides direct access to the slide pyramid levels. If defined, the levels associated with a label, overview, or thumbnail can be accessed by index or attribute. After identifying the desired level, an RGB image representation of the entire level can be retrieved using.\n",
        "\n",
        "```\n",
        "image = ds.get_image(level)\n",
        "uncompressed_image bytes = image.image_bytes()  # returns numpy array\n",
        "```\n",
        "\n",
        "The uncompressed bytes associated with the image are retrieved from the DICOM store when the call to `image.image_bytes()` is performed.\n",
        "\n",
        "Generating images of an entire pyramid level can be a very \u003cu\u003etime and resource intensive\u003c/u\u003e task. At high magnifications, digital pathology images are gigapixel images and retrieving these images can cause out of memory conditions. Typically the images of entire levels should be retrieved at a low magnification and these images should be used to identify the areas of interest (patches) retrieved at a high magnification."
      ]
    },
    {
      "cell_type": "code",
      "execution_count": null,
      "metadata": {
        "id": "KViZdMPgIKBn"
      },
      "outputs": [],
      "source": [
        "sub_plots = init_subplot(2,2)\n",
        "\n",
        "# Get Level by \"level index; retrieve level 11\"\n",
        "level = ds.get_level_by_index(11)\n",
        "image = ds.get_image(level)\n",
        "rgb_values = image.image_bytes()\n",
        "show_image('Level 11', rgb_values, sub_plots[0,0])\n",
        "\n",
        "# Get Level by \"level index; 9\"\n",
        "# Image looks simlar to level 11, however axis on edges\n",
        "# indicates that the image has greater pixel area.\n",
        "level = ds.get_level_by_index(9)\n",
        "rgb_values = ds.get_image(level).image_bytes()\n",
        "show_image('Level 9', rgb_values,  sub_plots[0,1])\n",
        "\n",
        "# Requesting overview image by attribute.\n",
        "level = ds.overview\n",
        "rgb_values = ds.get_image(level).image_bytes()\n",
        "show_image('Overview Image by attribute', rgb_values, sub_plots[1,0])\n",
        "\n",
        "# Get overview image by index.\n",
        "level = ds.get_level_by_index('OVERVIEW')\n",
        "rgb_values = ds.get_image(level).image_bytes()\n",
        "show_image('Overview Image by index', rgb_values,  sub_plots[1,1])"
      ]
    },
    {
      "cell_type": "markdown",
      "metadata": {
        "id": "l6u9Fk9-ZbAr"
      },
      "source": [
        "# \u003ca name=\"pixel_spacing\"\u003eImage Dimensions (Pixel Spacing)\u003c/a\u003e\n",
        "\n",
        "The physical dimensions of a pixel in digital pathology images are encoded by slide scanners and expressed in DICOM as [pixel spacing](https://dicom.nema.org/medical/dicom/current/output/chtml/part03/sect_10.7.html#sect_10.7.1.3). Pixel spacing is the real world distance in mm between two adjacent pixel centers. EZ-WSI slide pyramid levels have a pixel spacing attribute.\n",
        "\n",
        "\n"
      ]
    },
    {
      "cell_type": "code",
      "execution_count": null,
      "metadata": {
        "id": "XjDTh8mYZr1i"
      },
      "outputs": [],
      "source": [
        "level = ds.native_level  # Get level corresponding to highest magnfication\n",
        "print(f'Width: {level.width} px  Width spacing: {level.pixel_spacing.column_spacing_mm} mm/px    Width physical dimension: {level.pixel_spacing.column_spacing_mm * level.width} mm')\n",
        "print(f'Height: {level.height} px  Height spacing: {level.pixel_spacing.row_spacing_mm} mm/px    Height physical dimension: {level.pixel_spacing.row_spacing_mm * level.height} mm')\n",
        "print(f'Minimum horizontal/vertical pixel spacing: {level.pixel_spacing.pixel_spacing_mm} mm/px')\n"
      ]
    },
    {
      "cell_type": "markdown",
      "metadata": {
        "id": "TGCZ0R4Vsp5w"
      },
      "source": [
        "**Pixel spacing and magnification**\n",
        "\n",
        "Pixel spacing and magnification are not completely interchangeable concepts. Pixel spacing is affected by the optical path of the slide scanning during image acquisition only. In contrast, the [magnification](https://pubmed.ncbi.nlm.nih.gov/24083056/) of a digital pathology image on a monitor is \u003cu\u003ealso\u003c/u\u003e affected by the DPI of the monitor and the distance of the viewer to the monitor. EZ-WSI provides methods to estimate  magnification of a pixel spacing and to initialize pixel spacing from a magnification string. EZ-WSI converts between magnification and pixel spacing using the following arithmetic.\n",
        "\n",
        "```Magnification = Scale Factor / Pixel Spacing```.\n",
        "\n",
        "Scale factor defaults to 0.01. EZ-WSI represents physical dimensions in standard DICOM units (mm/px) and uses a PixelSpacing class to represent spacing. Pixel spacing objects can also be initialized directly.\n",
        "\n"
      ]
    },
    {
      "cell_type": "code",
      "execution_count": null,
      "metadata": {
        "id": "aLthKr4eGd-i"
      },
      "outputs": [],
      "source": [
        "# The following examples create representation of pixels spacing from magnifications\n",
        "# these are generated using the approximation described above.\n",
        "\n",
        "low_ps = pixel_spacing.PixelSpacing.FromMagnificationString('0.625X')\n",
        "print(f'Magnification: {low_ps.as_magnification_string}   Pixel Spacing: {low_ps.pixel_spacing_mm} mm/px')\n",
        "medium_ps = pixel_spacing.PixelSpacing.FromMagnificationString('10X')\n",
        "print(f'Magnification: {medium_ps.as_magnification_string}   Pixel Spacing: {medium_ps.pixel_spacing_mm} mm/px')\n",
        "high_ps = pixel_spacing.PixelSpacing.FromMagnificationString('40X')\n",
        "print(f'Magnification: {high_ps.as_magnification_string}   Pixel Spacing: {high_ps.pixel_spacing_mm} mm/px')\n",
        "\n",
        "# This example defines pixel spacing directly. Here pixel spacing of both the\n",
        "# horizontal and vertical dimensions can be defined; the units are always mm/px\n",
        "column_px_spacing = 0.016\n",
        "row_px_spacing = 0.016\n",
        "user_defined_pixel_spacing = pixel_spacing.PixelSpacing(column_px_spacing, row_px_spacing)\n",
        "print ('\\nUser intialized pixel spacing.')\n",
        "print(f'Magnification: {user_defined_pixel_spacing.as_magnification_string}   Pixel Spacing: {user_defined_pixel_spacing.pixel_spacing_mm} mm/px')"
      ]
    },
    {
      "cell_type": "markdown",
      "metadata": {
        "id": "LWDvUr70nIbU"
      },
      "source": [
        "#\u003ca name=\"find_by_pixelspacing\"\u003eFinding Pyramid Level Images By Pixel Spacing\u003c/a\u003e\n",
        "\n",
        "For many applications it is desirable to retrieve pyramid image which is as close as possible to a desired  pixel spacing. To accomplish this the DicomSlide class has a ```get_level_by_pixel_spacing``` method. The method  returns the level with a pixel spacing closest to the search target. The method returns None if a level cannot be found.\n",
        "\n",
        "```\n",
        "def get_level_by_pixel_spacing(\n",
        "      self,\n",
        "      pixel_spacing_mm: float,\n",
        "      relative_pixel_spacing_equality_threshold: float = 0.25,\n",
        "      maximum_downsample: float = 0.0\n",
        ") -\u003e Optional[Level]:\n",
        "```\n",
        "\n",
        "The method has two optional parameters.\n",
        "1. *relative_pixel_spacing_equality_threshold*: Defines the relative difference at which search pixel spacing and slide level pixel spacing are considered equivalent. By default pixel spacing that is within 25% is considered as having the same pixel spacing.\n",
        "\n",
        "2. *maximum_downsample*: If a pyramid level with \"equal\" pixel spacing cannot be found then this parameter defines the maximum scaling factor (e.g., 8X) that it is acceptable to return higher magnification imaging. By default this parameter is disabled.\n",
        "\n",
        "In the example below the slide is searched for a pixel spacing which falls between level 7 and 8. The method returns level 7."
      ]
    },
    {
      "cell_type": "code",
      "execution_count": null,
      "metadata": {
        "id": "-MLsu2c3S8n9"
      },
      "outputs": [],
      "source": [
        "# Retrieves image within a slide pyramid by pixel spacing\n",
        "print(f'Search Pixel Spacing: {user_defined_pixel_spacing.pixel_spacing_mm} mm/px')\n",
        "level = ds.get_level_by_pixel_spacing(user_defined_pixel_spacing)\n",
        "\n",
        "# Display image in Colab.\n",
        "image = ds.get_image(level)\n",
        "rgb_values = image.image_bytes()\n",
        "show_image(f'Retrieved level index: {level.level_index}; Pixel spacing: {level.pixel_spacing.pixel_spacing_mm}', rgb_values)"
      ]
    },
    {
      "cell_type": "markdown",
      "metadata": {
        "id": "M0HBMDPBDBAA"
      },
      "source": [
        "**Example of retrieving level outside of equality threshold range**\n",
        "\n",
        "\n"
      ]
    },
    {
      "cell_type": "code",
      "execution_count": null,
      "metadata": {
        "id": "77-CpXHmZziB"
      },
      "outputs": [],
      "source": [
        "# define pixel spacing outside of default equality threshold spacing.\n",
        "ps = pixel_spacing.PixelSpacing(0.35, 0.35)\n",
        "\n",
        "# set maximum downsample to 8.0x\n",
        "level = ds.get_level_by_pixel_spacing(ps, maximum_downsample=8.0)\n",
        "print(f'level.level_index: {level.level_index};  width: {level.width} x height: {level.height}')\n",
        "image = ds.get_image(level)\n",
        "show_image('level', image.image_bytes())"
      ]
    },
    {
      "cell_type": "markdown",
      "metadata": {
        "id": "Pcoq3V1rD2QI"
      },
      "source": [
        "# \u003ca name=\"normalize_pixelspacing\"\u003eNormalizing Pyramid Level Pixel Spacing (Resizing)\u003c/a\u003e\n",
        "\n",
        "For many applications it is beneficial to normalize the pixel spacing of imaging to ensure that across a set of slides all slide imaging is represented at a common pixel spacing. To accomplish this, the slide class level provides the `scale_factors` and `resize` methods. The `scale_factors` method returns the horizontal and vertical scale factors necessary to convert the source pixel spacing to the desired target, downsample imaging increases spacing. The `resize` method returns a downsampled representation of the slide level. The data retrieval costs of generating the downsampled imaging are a function of the size of the source imaging required to generate the downsampled image."
      ]
    },
    {
      "cell_type": "code",
      "execution_count": null,
      "metadata": {
        "id": "MaZ5qh_HJsDo"
      },
      "outputs": [],
      "source": [
        "# Determine scaling factors required to scale source imaging to target ps, use\n",
        "# method to determine if scaling is necessary.\n",
        "horizontal_scale_factor, vertical_scale_factor = level.scale_factors(ps)\n",
        "print(f'Horizontal and vertical scaling factors to resize imaging to target ps: {horizontal_scale_factor} x {vertical_scale_factor}')\n",
        "\n",
        "# Downsample level to target pixel spacing.\n",
        "downsample_level = level.resize(ps)\n",
        "print(f'width: {downsample_level.width} x height: {downsample_level.height}, spacing: {downsample_level.pixel_spacing.pixel_spacing_mm} mm/px')\n",
        "\n",
        "# Retrieve and show image.\n",
        "# Lower pixel spacing image shown. Cost of image retrieval is based on size\n",
        "# of source imaging.\n",
        "image = ds.get_image(downsample_level)\n",
        "show_image('downsampled level', image.image_bytes())"
      ]
    },
    {
      "cell_type": "markdown",
      "metadata": {
        "id": "kS9JY1pkRdMr"
      },
      "source": [
        "\n",
        "Alternatively, level scale factors and downsampling can be defined relative to target image dimensions.\n",
        "\n"
      ]
    },
    {
      "cell_type": "code",
      "execution_count": null,
      "metadata": {
        "id": "z4sK2n46YUyh"
      },
      "outputs": [],
      "source": [
        "# Determine scaling factors required to scale source imaging to target\n",
        "# dimensions, use method to determine if scaling is necessary.\n",
        "horizontal_scale_factor, vertical_scale_factor = level.scale_factors(dicom_slide.ImageDimensions(67, 153))\n",
        "print(f'Horizontal and vertical scaling factors to resize imaging to target ps: {horizontal_scale_factor} x {vertical_scale_factor}')\n",
        "\n",
        "# Downsample level to target dimensions.\n",
        "downsample_level = level.resize(dicom_slide.ImageDimensions(67, 153))\n",
        "print(f'width: {downsample_level.width} x height: {downsample_level.height}, spacing: {downsample_level.pixel_spacing.pixel_spacing_mm} mm/px')\n",
        "\n",
        "# Retrieve and show image.\n",
        "# Lower pixel spacing image shown. Cost of image retrieval is based on size\n",
        "# of source imaging.\n",
        "image = ds.get_image(downsample_level)\n",
        "show_image('downsampled level', image.image_bytes())"
      ]
    },
    {
      "cell_type": "markdown",
      "metadata": {
        "id": "qUGcTEiVa8fm"
      },
      "source": [
        "# \u003ca name=\"get_patch\"\u003eRetrieving a Patch From a Level Image and Downsampled Level Image\u003c/a\u003e\n",
        "\n",
        "Patches, rectangular sub-regions of slide level, are retrieved from the DicomSlide using the get_patch method. Pixel data for the patches are retrieved when the Patch's `get_bytes` method is called. When pre-emptive frame [caching](#cache) is not enabled, which is not recommended, get bytes will retrieve only the frames required to render the patch. With frame caching enabled, if the frames required to render the patch are not found in the cache, then the patch will retrieve the missing frame and additional frames as defined by the pre-emptive cache settings.\n",
        "\n",
        "**Performance Tip**\n",
        "\n",
        "As described previously, EZ-WSI DICOMweb can be optionally configured to use an in memory cache to accelerate patch retrieval. The default caching functions are optimized to best accelerate patch retrieval when patches are retrieved in order left-right top-to-bottom."
      ]
    },
    {
      "cell_type": "code",
      "execution_count": null,
      "metadata": {
        "id": "_LqRJ2P1IYZe"
      },
      "outputs": [],
      "source": [
        "###  Extract a patch of a tissue sample.\n",
        "sub_plots = init_subplot(1,2)\n",
        "\n",
        "level = ds.get_level_by_pixel_spacing(pixel_spacing.PixelSpacing(0.016, 0.016))\n",
        "level_mag = level.pixel_spacing.as_magnification_string\n",
        "\n",
        "# Retrieve whole downsampled image, to display a reference.\n",
        "show_image(f'Whole Level at Magnification {level_mag}', ds.get_image(level).image_bytes(), sub_plots[0])\n",
        "\n",
        "# Get retrieve patch from image.\n",
        "x_origin = 350\n",
        "y_origin = 1850\n",
        "width = 300\n",
        "height = 400\n",
        "tissue_patch = ds.get_patch(\n",
        "    level, x=x_origin, y=y_origin, width=width, height=height\n",
        ").image_bytes()\n",
        "\n",
        "show_image(f'Patch at Magnification {level_mag}', tissue_patch, sub_plots[1])"
      ]
    },
    {
      "cell_type": "markdown",
      "metadata": {
        "id": "E_gKlXEspM82"
      },
      "source": [
        "**Retrieve patch from downsampled level**\n",
        "\n",
        "Patches can be sampled from downsampled levels. The code below downsamples the previously shown image to an image 67 px x 153 px (columns, rows) and then retrieves the region previously retrieved."
      ]
    },
    {
      "cell_type": "code",
      "execution_count": null,
      "metadata": {
        "id": "e6xKuhFflRGv"
      },
      "outputs": [],
      "source": [
        "sub_plots = init_subplot(1,2)\n",
        "\n",
        "# Downsample previous level.\n",
        "downsample_level = level.resize(dicom_slide.ImageDimensions(67, 153))\n",
        "\n",
        "# get downsampling scale factor use scaling fractor to adjust previously used\n",
        "# patch coordinates.\n",
        "horizontal_scale_factor, vertical_scale_factor =level.scale_factors(dicom_slide.ImageDimensions(67, 153))\n",
        "\n",
        "print(f'Source Image width: {level.width} x height: {level.height}, spacing: {level.pixel_spacing.pixel_spacing_mm} mm/px')\n",
        "print(f'Downsampling scale factor: {horizontal_scale_factor} x {vertical_scale_factor}')\n",
        "print(f'Downsampled Image width: {downsample_level.width} x height: {downsample_level.height}, spacing: {downsample_level.pixel_spacing.pixel_spacing_mm} mm/px')\n",
        "\n",
        "# Retrieve whole downsampled image, to display a reference.\n",
        "show_image('Downsampled level', ds.get_image(downsample_level).image_bytes(), sub_plots[0])\n",
        "\n",
        "# Get retrieve patch from downsampled image.\n",
        "x_origin = int(x_origin / horizontal_scale_factor)\n",
        "y_origin = int(y_origin / vertical_scale_factor)\n",
        "width = int(width / horizontal_scale_factor)\n",
        "height = int(height / vertical_scale_factor)\n",
        "tissue_patch = ds.get_patch(\n",
        "    downsample_level, x=x_origin, y=y_origin, width=width, height=height\n",
        ").image_bytes()\n",
        "\n",
        "# Display image\n",
        "level_mag = downsample_level.pixel_spacing.as_magnification_string\n",
        "show_image(f'Patch at Magnification {level_mag}', tissue_patch, sub_plots[1])"
      ]
    },
    {
      "cell_type": "markdown",
      "metadata": {
        "id": "KEMR7sGvS00w"
      },
      "source": [
        "# \u003ca name=\"color_correction\"\u003eICC Profile Color Normalization\u003c/a\u003e\n",
        "The color space digital pathology imaging captured varies by slide scanner vendor. As a result, if the same imaging is acquired by two different vendors' systems the raw uncalibrated images may appear quite different when viewed side-by-side on a monitor. When digital pathology is acquired the imaging is typically encoded with the [ICC Color Profile](https://en.wikipedia.org/wiki/ICC_profile) of the slide scanner that acquired the image. This color profile describes how to transform the RGB color values encoded within the image into a universal color space and can be used to normalize the imaging into a common color space. EZ-WSI supports ICC Profile color normalization for all imaging. The get_bytes methods on dicom_slide.Image, dicom_slide.DicomPatch and gcs_image.GcsImage, gcs_image.GcsPatch all accept an optional parameter to define an ICC Profile for the returned imaging. If an ICC Profile is  provided and the DICOM image is encoded with an ICC Color profile then the returned uncompressed bytes will be transformed from the color space in the DICOM imaging to the target color space. EZ-WSI DICOMweb includes ICC Color profiles for three reference color spaces, SRGB, ROMMRGB, and ADOBERGB these can be used as reference color spaces for normalization.\n",
        "\n",
        "![ICC Profile color normalization example](https://github.com/GoogleCloudPlatform/EZ-WSI-DICOMweb/tree/main/ez_wsi_dicomweb/documentation/images/icc_profile.png\n",
        ")\n"
      ]
    },
    {
      "cell_type": "markdown",
      "metadata": {
        "id": "ybf2THaMDzhy"
      },
      "source": [
        "Functions in dicom_slide module which return reference icc profiles.\n",
        "\n",
        "```\n",
        "def get_adobergb_icc_profile() -\u003e ImageCms.core.CmsProfile:\n",
        "def get_rommrgb_icc_profile() -\u003e ImageCms.core.CmsProfile:\n",
        "def get_srgb_icc_profile() -\u003e ImageCms.core.CmsProfile:\n",
        "```\n",
        "\n",
        "DicomSlide method that generates a color transformation from the slide color space to target color space. Returns None if slide does not define icc color profile.\n",
        "```\n",
        "  def create_icc_profile_transformation(\n",
        "      self,\n",
        "      icc_profile: Union[bytes, ImageCms.core.CmsProfile],\n",
        "      rendering_intent: ImageCms.Intent = ImageCms.Intent.PERCEPTUAL,\n",
        "  ) -\u003e Optional[ImageCms.ImageCmsTransform]:\n",
        "```\n",
        "\n",
        "\n"
      ]
    },
    {
      "cell_type": "code",
      "execution_count": null,
      "metadata": {
        "id": "2IEECKokCIqE"
      },
      "outputs": [],
      "source": [
        "# icc profile to transform imaging to.\n",
        "profile_bytes = dicom_slide.get_adobergb_icc_profile()\n",
        "\n",
        "# create a transformation to transform from the slide's colorspace to the desired target colorspace.\n",
        "profile_transformation = ds.create_icc_profile_transformation(profile_bytes)\n",
        "\n",
        "# returns tissue patch transformed to target colorspace.\n",
        "tissue_patch = ds.get_patch(level, x=350, y=1850, width=300, height=400).image_bytes(profile_transformation)"
      ]
    },
    {
      "cell_type": "markdown",
      "metadata": {
        "id": "lKP-j0FKTS5T"
      },
      "source": [
        "# \u003ca name=\"generate_patches\"\u003eGenerating Patches from Level Imaging\u003c/a\u003e\n",
        "EZ-WSI DICOMweb contains a utility to automate the selective generation of  patches from level imaging and downsampled level imaging.The DicomPatchGenerator returns a sequence of patches systematically sampled across an image. The patches produced are square, patch_size px on side, and sampled along the x and y image axis at stride_size px spacing from an area defined by a tissue mask.\n",
        "\n",
        "The tissue mask can be defined directly (numpy array) or generated by a thresholding algorithm. If defined by thresholding, a relatively low magnification level image from the slides pyramid is generated and thresholded. If undefined the level imaging with magnification ~1.25X will be used. The thresholding algorithm converts the tissue mask to grayscale and defines tissue as being regions of the image with luminance values that fall between 255.0 *  min_luminance and 255.0 * max_luminance. This relatively naive approach works reasonably well for brightfield imaging.\n",
        "```\n",
        "\n",
        "Module patch_generator.py\n",
        "\n",
        "class DicomPatchGenerator(Sequence[dicom_slide.DicomPatch]):\n",
        "  \"\"\"A generator for patch sampling in a slide at specified pixel spacing.\n",
        "  \"\"\"\n",
        "\n",
        "  def __init__(\n",
        "      self,\n",
        "      dicom_source: Union[\n",
        "          dicom_slide.DicomSlide, dicom_slide.DicomMicroscopeImage\n",
        "      ],\n",
        "      source_image: Union[\n",
        "          slide_level_map.Level,\n",
        "          slide_level_map.ResizedLevel,\n",
        "          pixel_spacing.PixelSpacing,\n",
        "      ],\n",
        "      patch_size: int,\n",
        "      mask: Optional[np.ndarray] = None,\n",
        "      stride_size: Optional[int] = None,\n",
        "      min_luminance: Optional[float] = None,\n",
        "      max_luminance: Optional[float] = None,\n",
        "      mask_level: Union[\n",
        "          slide_level_map.Level,\n",
        "          slide_level_map.ResizedLevel,\n",
        "          pixel_spacing.PixelSpacing,\n",
        "          None,\n",
        "      ] = None,\n",
        "      mask_color_transform: Union[ImageCms.ImageCmsTransform, None] = None,\n",
        "  ):\n",
        "```\n",
        "\n"
      ]
    },
    {
      "cell_type": "code",
      "execution_count": null,
      "metadata": {
        "id": "nOVDY7jiME70"
      },
      "outputs": [],
      "source": [
        "### Create a Patch Generator\n",
        "level = ds.get_level_by_pixel_spacing(pixel_spacing.PixelSpacing(0.016, 0.016))\n",
        "patch_gen = patch_generator.DicomPatchGenerator(\n",
        "    ds,\n",
        "    # Pyramid level patches will be returned from\n",
        "    level,\n",
        "    # patch dimensions in pixel; returns square patches.\n",
        "    patch_size=100,\n",
        "    # Spacing (pixels) between patchs.\n",
        "    stride_size=10,\n",
        "    max_luminance=0.65\n",
        ")\n",
        "print(f'Generator will return {len(patch_gen)} patches.')"
      ]
    },
    {
      "cell_type": "markdown",
      "metadata": {
        "id": "cMFEjYrkMPYL"
      },
      "source": [
        "**\u003ca name=\"optimizing_patch_retieval\"\u003eOptimizing patch image retrieval\u003c/a\u003e**\n",
        "\n",
        "If the image bytes associated with the generated patches are going to be retrieved then frame caching (if enabled) can be optimized by selectively \u003ca name=\"preloading\"\u003epreloading\u003c/a\u003e the generated patch frames into the frame cache.\n",
        "\n",
        "**Performance Tip:**\n",
        "Preloading frames will not improve performance if any of the following are true:\n",
        "1.  The image_bytes() method will not be called on the returned patches.\n",
        "2.  The total size in bytes of the returned patches exceeds the frame caches max memory setting or the available memory of machine."
      ]
    },
    {
      "cell_type": "code",
      "execution_count": null,
      "metadata": {
        "id": "yTj-8UAQuDtW"
      },
      "outputs": [],
      "source": [
        "# preload the patches into the cache.\n",
        "ds.preload_patches_in_frame_cache(patch_gen)\n",
        "\n",
        "# now use the list of patches for something else, e.g., here we visualize the\n",
        "# patch imaging.\n",
        "show_generated_patches(10,10, patch_gen)"
      ]
    },
    {
      "cell_type": "markdown",
      "metadata": {
        "id": "5KEAkCiEqk3N"
      },
      "source": [
        "**The DICOMPatchGenerator can generate patches from a DownsampledLevels.**"
      ]
    },
    {
      "cell_type": "code",
      "execution_count": null,
      "metadata": {
        "id": "_5XUPOSOMC7F"
      },
      "outputs": [],
      "source": [
        "### Create a Patch Generator\n",
        "level = ds.get_level_by_pixel_spacing(pixel_spacing.PixelSpacing(0.016, 0.016))\n",
        "downsample_level = level.resize(dicom_slide.ImageDimensions(67, 153))\n",
        "patch_gen = patch_generator.DicomPatchGenerator(\n",
        "    ds,\n",
        "    # Pyramid level patches will be returned from\n",
        "    downsample_level,\n",
        "    # Spacing (pixels) between patchs.\n",
        "    stride_size=2,\n",
        "    # patch dimensions in pixel; returns square patches.\n",
        "    patch_size=10,\n",
        "    max_luminance=0.80\n",
        ")\n",
        "# preload the list of patches into the cache.\n",
        "ds.preload_patches_in_frame_cache(patch_gen)\n",
        "\n",
        "# now use the list of patches for something else, e.g., here we visualize the\n",
        "# patch imaging.\n",
        "show_generated_patches(10,10, patch_gen)"
      ]
    },
    {
      "cell_type": "markdown",
      "metadata": {
        "id": "D9g4JWYlojLm"
      },
      "source": [
        "# \u003ca name=\"complete_example\"\u003eComplete example of using EZ-WSI to generate a list of patches and render the patches\u003c/a\u003e"
      ]
    },
    {
      "cell_type": "code",
      "execution_count": null,
      "metadata": {
        "id": "fufefxtCouC2"
      },
      "outputs": [],
      "source": [
        "from ez_wsi_dicomweb import credential_factory\n",
        "from ez_wsi_dicomweb import dicom_slide\n",
        "from ez_wsi_dicomweb import dicom_web_interface\n",
        "from ez_wsi_dicomweb import local_dicom_slide_cache_types\n",
        "from ez_wsi_dicomweb import patch_generator\n",
        "from ez_wsi_dicomweb import pixel_spacing\n",
        "from ez_wsi_dicomweb.ml_toolkit import dicom_path\n",
        "\n",
        "project_name = 'hai-cd3-foundations' # remove''\n",
        "location = 'us-west1' # remove #'' # e.g. us-west1\n",
        "dataset_id = 'pathology' # remove\n",
        "dicom_store_id = 'camelyon' # remove\n",
        "study_uid = '1.3.6.1.4.1.11129.5.7.999.186491099540.79362771.1709051338085017' # remove\n",
        "series_uid = '1.3.6.1.4.1.11129.5.7.999.186491099540.79362771.1709051338893019' # remove\n",
        "\n",
        "# Define path to slide imaging in GCP DICOM Store\n",
        "ds = dicom_slide.DicomSlide(\n",
        "      dwi=dicom_web_interface.DicomWebInterface(\n",
        "        credential_factory.DefaultCredentialFactory()\n",
        "      ),\n",
        "      path=dicom_path.FromString(\n",
        "    'https://healthcare.googleapis.com/v1'\n",
        "    f'/projects/{project_name}/locations/{location}'\n",
        "    f'/datasets/{dataset_id}/dicomStores/{dicom_store_id}'\n",
        "    f'/dicomWeb/studies/{study_uid}'\n",
        "    f'/series/{series_uid}'),\n",
        ")\n",
        "# Initalize frame cache\n",
        "fc = ds.init_slide_frame_cache(\n",
        "  optimization_hint=local_dicom_slide_cache_types.CacheConfigOptimizationHint.MINIMIZE_DICOM_STORE_QPM\n",
        ")\n",
        "\n",
        "# Find level with desired pixel spacing.\n",
        "level = ds.get_level_by_pixel_spacing(pixel_spacing.PixelSpacing(0.016, 0.016))\n",
        "\n",
        "# icc profile to transform imaging to.\n",
        "profile_bytes = dicom_slide.get_adobergb_icc_profile()\n",
        "profile_transformation = ds.create_icc_profile_transformation(profile_bytes)\n",
        "\n",
        "# Init Patch generator\n",
        "patch_gen = patch_generator.DicomPatchGenerator(\n",
        "    ds,\n",
        "    # Pyramid level patches will be returned from\n",
        "    level,\n",
        "    # patch dimensions in pixel; returns square patches.\n",
        "    patch_size=100,\n",
        "    # Spacing (pixels) between patchs.\n",
        "    stride_size=10,\n",
        "    max_luminance=0.65,\n",
        "    mask_color_transform=profile_transformation,\n",
        ")\n",
        "\n",
        "# preload the list of patches into the cache.\n",
        "ds.preload_patches_in_frame_cache(patch_gen)\n",
        "\n",
        "# Show patches in Colab.\n",
        "show_generated_patches(10,10, patch_gen, profile_transformation=profile_transformation)\n",
        "\n",
        "# Display time required to retrieve imaging required to generate patches.\n",
        "print(frame_cache.cache_stats)"
      ]
    },
    {
      "cell_type": "code",
      "execution_count": null,
      "metadata": {
        "id": "DqKnqB0QGfF4"
      },
      "outputs": [],
      "source": []
    }
  ],
  "metadata": {
    "colab": {
      "last_runtime": {
        "build_target": "",
        "kind": "local"
      },
      "private_outputs": true,
      "provenance": [
        {
          "file_id": "/piper/depot/google3/third_party/py/ez_wsi_dicomweb/ez_wsi_demo.ipynb?workspaceId=philbrik:demo_with_output::citc",
          "timestamp": 1729898302982
        },
        {
          "file_id": "/piper/depot/google3/third_party/py/ez_wsi_dicomweb/ez_wsi_demo.ipynb",
          "timestamp": 1729897468624
        },
        {
          "file_id": "/piper/depot/google3/third_party/py/ez_wsi_dicomweb/ez_wsi_demo.ipynb?workspaceId=philbrik:fig-export-ez_wsi_doc-34044-change-1::citc",
          "timestamp": 1728921453721
        },
        {
          "file_id": "/piper/depot/google3/third_party/py/ez_wsi_dicomweb/ez_wsi_demo.ipynb?workspaceId=philbrik:ez_wsi_doc::citc",
          "timestamp": 1727971458739
        },
        {
          "file_id": "/piper/depot/google3/third_party/py/ez_wsi_dicomweb/ez_wsi_demo.ipynb?workspaceId=philbrik:ez_wsi_doc::citc",
          "timestamp": 1727970465105
        }
      ]
    },
    "kernelspec": {
      "display_name": "Python 3",
      "name": "python3"
    },
    "language_info": {
      "name": "python"
    }
  },
  "nbformat": 4,
  "nbformat_minor": 0
}
